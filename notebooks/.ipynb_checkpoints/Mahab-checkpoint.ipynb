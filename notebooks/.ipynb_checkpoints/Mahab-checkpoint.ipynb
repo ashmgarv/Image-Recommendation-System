{
 "cells": [
  {
   "cell_type": "markdown",
   "metadata": {},
   "source": [
    "# file is present inside a folder called notebooks inside Project directory"
   ]
  },
  {
   "cell_type": "code",
   "execution_count": 220,
   "metadata": {},
   "outputs": [],
   "source": [
    "import numpy as np\n",
    "from sklearn.svm import OneClassSVM\n",
    "import random\n",
    "\n",
    "\n",
    "from sklearn.svm import OneClassSVM\n",
    "from sklearn.preprocessing import StandardScaler, MinMaxScaler\n",
    "from sklearn.decomposition import PCA, TruncatedSVD, LatentDirichletAllocation, NMF\n",
    "from sklearn.model_selection import train_test_split\n",
    "from sklearn.metrics import accuracy_score\n",
    "from tqdm import tqdm\n",
    "from scipy.spatial.distance import mahalanobis, jaccard\n",
    "\n",
    "import sys\n",
    "sys.path.append('../')\n",
    "\n",
    "from utils import get_all_vectors, filter_images\n",
    "from feature_reduction.feature_reduction import reducer\n",
    "from metric.distance import distance"
   ]
  },
  {
   "cell_type": "code",
   "execution_count": 221,
   "metadata": {},
   "outputs": [],
   "source": [
    "models = ['sift']\n",
    "label = 'dorsal'\n",
    "k = 20\n",
    "frt = 'pca'"
   ]
  },
  {
   "cell_type": "code",
   "execution_count": 222,
   "metadata": {},
   "outputs": [],
   "source": [
    "#getting dorsal vectors and class\n",
    "dorsal_paths = filter_images(label)\n",
    "dorsal_vectors, palmar_vectors = np.array([]), np.array([])\n",
    "for model in models:\n",
    "    \n",
    "    paths, temp = get_all_vectors(model, f={'path': {'$in': dorsal_paths}})\n",
    "    if not dorsal_vectors.size: dorsal_vectors = temp\n",
    "    else: dorsal_vectors = np.concatenate((dorsal_vectors, temp), axis=1)\n",
    "        \n",
    "    _, temp = get_all_vectors(model, f={'path': {'$nin': dorsal_paths}})\n",
    "    if not palmar_vectors.size: palmar_vectors = temp\n",
    "    else: palmar_vectors = np.concatenate((palmar_vectors, temp), axis=1)"
   ]
  },
  {
   "cell_type": "code",
   "execution_count": 223,
   "metadata": {},
   "outputs": [],
   "source": [
    "#train data\n",
    "q_dorsal_paths = filter_images(label, unlabelled_db=True)\n",
    "q_dorsal_vectors, q_palmar_vectors = np.array([]), np.array([])\n",
    "for model in models:\n",
    "    \n",
    "    _, temp = get_all_vectors(model, f={'path': {'$in': q_dorsal_paths}}, unlabelled_db=True)\n",
    "    if not q_dorsal_vectors.size: q_dorsal_vectors = temp\n",
    "    else: q_dorsal_vectors = np.concatenate((q_dorsal_vectors, temp), axis=1)\n",
    "        \n",
    "    _, temp = get_all_vectors(model, f={'path': {'$nin': q_dorsal_paths}}, unlabelled_db=True)\n",
    "    if not q_palmar_vectors.size: q_palmar_vectors = temp\n",
    "    else: q_palmar_vectors = np.concatenate((q_palmar_vectors, temp), axis=1)\n",
    "\n",
    "q_dorsal_class = np.array([1] * len(q_dorsal_vectors))\n",
    "q_palmar_class = np.array([0] * len(q_palmar_vectors))"
   ]
  },
  {
   "cell_type": "code",
   "execution_count": 224,
   "metadata": {},
   "outputs": [],
   "source": [
    "def predict_label(query_vector, dorsal_scaler, dorsal_pca, pca_dorsal_vectors, palmar_scaler, palmar_pca, pca_palmar_vectors):\n",
    "    \n",
    "    query_vector = query_vector.reshape(1,-1)\n",
    "    \n",
    "    #dorsal compute\n",
    "    scaled_vec = dorsal_scaler.transform(query_vector)\n",
    "    pca_query_vector_dorsal = dorsal_pca.transform(scaled_vec)\n",
    "    mean_dorsal = np.mean(pca_dorsal_vectors, axis=0)\n",
    "    dorsal_dist = mahalanobis(pca_query_vector_dorsal, mean_dorsal, np.linalg.inv(np.cov(pca_dorsal_vectors.T)))\n",
    "    \n",
    "    #palmar compute\n",
    "    scaled_vec = palmar_scaler.transform(query_vector)\n",
    "    pca_query_vector_palmar = palmar_pca.transform(scaled_vec)  \n",
    "    mean_palmar = np.mean(pca_palmar_vectors, axis=0)\n",
    "    palmar_dist =  mahalanobis(pca_query_vector_palmar, mean_palmar, np.linalg.inv(np.cov(pca_palmar_vectors.T)))\n",
    "    \n",
    "    if dorsal_dist < palmar_dist: return 1\n",
    "    return 0"
   ]
  },
  {
   "cell_type": "code",
   "execution_count": 225,
   "metadata": {},
   "outputs": [],
   "source": [
    "def test():\n",
    "    \n",
    "    #Test\n",
    "    test_data = np.vstack((q_dorsal_vectors, q_palmar_vectors))\n",
    "    test_labels = np.concatenate((q_dorsal_class, q_palmar_class))\n",
    "    \n",
    "    #DORSAL\n",
    "    pca_dorsal_vectors, _, _, dorsal_scaler, dorsal_pca = reducer(\n",
    "        dorsal_vectors, \n",
    "        k, \n",
    "        frt,\n",
    "        get_scaler_model = True\n",
    "    )\n",
    "\n",
    "    #palmar compute\n",
    "    pca_palmar_vectors, _, _, palmar_scaler, palmar_pca = reducer(\n",
    "        palmar_vectors, \n",
    "        k, \n",
    "        frt, \n",
    "        get_scaler_model = True\n",
    "    )\n",
    "    \n",
    "    pred_labels = []\n",
    "    for each in test_data:\n",
    "        pred_labels.append(predict_label(\n",
    "            each, dorsal_scaler, dorsal_pca, pca_dorsal_vectors, palmar_scaler, palmar_pca, pca_palmar_vectors\n",
    "        ))\n",
    "    score = accuracy_score(pred_labels, test_labels)\n",
    "    return score"
   ]
  },
  {
   "cell_type": "code",
   "execution_count": 230,
   "metadata": {},
   "outputs": [],
   "source": [
    "def get_initial_centroid(points, k):\n",
    "    centroids = points.copy()\n",
    "    np.random.shuffle(centroids)\n",
    "    return centroids[:k]\n",
    "\n",
    "def get_closest(points, centroids, return_min=False):\n",
    "    c_extended = centroids[:, np.newaxis]\n",
    "    distances = np.sqrt(((points - c_extended)**2).sum(axis=2))\n",
    "    \n",
    "    if not return_min:\n",
    "        closest_centroids = np.argmin(distances, axis = 0)\n",
    "        return closest_centroids\n",
    "    else:\n",
    "        return np.min(distances)\n",
    "\n",
    "def get_mean_centroids(points, centroids, closest):\n",
    "    mean_centroids = []\n",
    "    for k in range(centroids.shape[0]):\n",
    "        centroid_points = points[closest == k]\n",
    "        if centroid_points.size:\n",
    "            mean_centroids.append(centroid_points.mean(axis=0))\n",
    "    return np.array(mean_centroids)\n",
    "\n",
    "def get_final_centroids(points, c):\n",
    "    centroids = get_initial_centroid(points, c)\n",
    "    closest = get_closest(points, centroids)\n",
    "\n",
    "    for _ in range(1000):\n",
    "        closest = get_closest(points, centroids)\n",
    "        new_centroids = get_mean_centroids(points, centroids, closest)\n",
    "        if np.array_equal(centroids, new_centroids): \n",
    "#             print('converged at ', _+1)\n",
    "            centroids = new_centroids.copy()\n",
    "            break\n",
    "        else:\n",
    "            centroids = new_centroids.copy()\n",
    "    \n",
    "    return new_centroids, closest"
   ]
  },
  {
   "cell_type": "code",
   "execution_count": null,
   "metadata": {},
   "outputs": [],
   "source": [
    "def test(dorsal_vectors, palmar_vectors, test_data, test_labels, c):\n",
    "    \n",
    "    #get dorsal centroids\n",
    "    dorsal_centroids, _ = get_final_centroids(dorsal_vectors, c)\n",
    "    palmar_centroids, _ = get_final_centroids(palmar_vectors, c)\n",
    "    \n",
    "    #predict label and accuracy\n",
    "    pred_labels = []\n",
    "    for each in test_data:\n",
    "        dorsal_dist = get_closest(each.reshape(1,-1), dorsal_centroids, return_min=True)\n",
    "        palmar_dist = get_closest(each.reshape(1,-1), palmar_centroids, return_min=True)\n",
    "        p_label = 1 if dorsal_dist < palmar_dist else 0\n",
    "        pred_labels.append(p_label)\n",
    "    \n",
    "    return accuracy_score(pred_labels, test_labels)"
   ]
  }
 ],
 "metadata": {
  "kernelspec": {
   "display_name": "Python 3",
   "language": "python",
   "name": "python3"
  },
  "language_info": {
   "codemirror_mode": {
    "name": "ipython",
    "version": 3
   },
   "file_extension": ".py",
   "mimetype": "text/x-python",
   "name": "python",
   "nbconvert_exporter": "python",
   "pygments_lexer": "ipython3",
   "version": "3.7.4"
  }
 },
 "nbformat": 4,
 "nbformat_minor": 2
}

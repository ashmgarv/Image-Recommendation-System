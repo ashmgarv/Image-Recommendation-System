{
 "cells": [
  {
   "cell_type": "markdown",
   "metadata": {},
   "source": [
    "# file is present inside a folder called notebooks inside Project directory"
   ]
  },
  {
   "cell_type": "code",
   "execution_count": 135,
   "metadata": {},
   "outputs": [],
   "source": [
    "import numpy as np\n",
    "from sklearn.svm import OneClassSVM\n",
    "import random\n",
    "\n",
    "\n",
    "from sklearn.svm import OneClassSVM\n",
    "from sklearn.preprocessing import StandardScaler, MinMaxScaler\n",
    "from sklearn.decomposition import PCA, TruncatedSVD, LatentDirichletAllocation, NMF\n",
    "from sklearn.model_selection import train_test_split\n",
    "from sklearn.metrics import accuracy_score\n",
    "from tqdm import tqdm\n",
    "from scipy.spatial.distance import mahalanobis\n",
    "\n",
    "import sys\n",
    "sys.path.append('../')\n",
    "\n",
    "from utils import get_all_vectors, filter_images\n",
    "from feature_reduction.feature_reduction import reducer\n",
    "from metric.distance import distance"
   ]
  },
  {
   "cell_type": "code",
   "execution_count": 199,
   "metadata": {},
   "outputs": [],
   "source": [
    "model = 'sift'\n",
    "k = 20\n",
    "label = 'dorsal'\n",
    "frt = 'pca'"
   ]
  },
  {
   "cell_type": "code",
   "execution_count": 200,
   "metadata": {},
   "outputs": [],
   "source": [
    "#getting dorsal vectors and class\n",
    "dorsal_paths = filter_images(label)\n",
    "_, dorsal_vectors = get_all_vectors(model, f={'path': {'$in': dorsal_paths}})\n",
    "dorsal_class = np.array([1] * len(dorsal_vectors))"
   ]
  },
  {
   "cell_type": "code",
   "execution_count": 201,
   "metadata": {},
   "outputs": [],
   "source": [
    "_, palmar_vectors = get_all_vectors(model, f={'path': {'$nin': dorsal_paths}})\n",
    "palmar_class = np.array([0] * len(palmar_vectors))"
   ]
  },
  {
   "cell_type": "code",
   "execution_count": 202,
   "metadata": {},
   "outputs": [],
   "source": [
    "def predict_label(query_vector, dorsal_scaler, dorsal_pca, pca_dorsal_vectors, palmar_scaler, palmar_pca, pca_palmar_vectors):\n",
    "    query_vector = query_vector.reshape(1,-1)\n",
    "        \n",
    "    #dorsal compute\n",
    "    scaled_vec = dorsal_scaler.transform(query_vector)\n",
    "    pca_query_vector_dorsal = dorsal_pca.transform(scaled_vec)\n",
    "    mean_dorsal = np.mean(pca_dorsal_vectors, axis=0)\n",
    "    dorsal_dist = mahalanobis(mean_dorsal, pca_query_vector_dorsal,np.linalg.inv(np.cov(pca_dorsal_vectors.T)))\n",
    "    \n",
    "    #palmar compute\n",
    "    scaled_vec = palmar_scaler.transform(query_vector)\n",
    "    pca_query_vector_palmar = palmar_pca.transform(scaled_vec)  \n",
    "    mean_palmar = np.mean(pca_palmar_vectors, axis=0)\n",
    "    palmar_dist = mahalanobis(mean_palmar, pca_query_vector_palmar, np.linalg.inv(np.cov(pca_palmar_vectors.T)))\n",
    "    \n",
    "    if dorsal_dist < palmar_dist: return 1\n",
    "    return 0"
   ]
  },
  {
   "cell_type": "code",
   "execution_count": 203,
   "metadata": {},
   "outputs": [],
   "source": [
    "def test():\n",
    "    # Vectors for palmar and dorsal split into test and train\n",
    "    vectors =  np.vstack((palmar_vectors, dorsal_vectors))\n",
    "    labels = np.concatenate((palmar_class, dorsal_class))\n",
    "    train_data, test_data, train_labels, test_labels = train_test_split(vectors, labels)\n",
    "    \n",
    "    #train do\n",
    "    dorsal_train_data = train_data[np.where(train_labels == 1)[0]]\n",
    "    palmar_train_data = train_data[np.where(train_labels == 0)[0]]\n",
    "    \n",
    "    #DORSAL\n",
    "    pca_dorsal_vectors, _, _, dorsal_scaler, dorsal_pca = reducer(\n",
    "    dorsal_train_data, \n",
    "    k, \n",
    "    frt,\n",
    "    get_scaler_model = True\n",
    "    )\n",
    "    dorsal_inv = np.linalg.inv(np.cov(pca_dorsal_vectors))\n",
    "\n",
    "    #palmar compute\n",
    "    pca_palmar_vectors, _, _, palmar_scaler, palmar_pca = reducer(\n",
    "    palmar_train_data, \n",
    "    k, \n",
    "    frt, \n",
    "    get_scaler_model = True\n",
    "    )\n",
    "    palmar_inv = np.linalg.inv(np.cov(pca_palmar_vectors))\n",
    "    \n",
    "    pred_labels = []\n",
    "    for each in test_data:\n",
    "        pred_labels.append(predict_label(\n",
    "            each, dorsal_scaler, dorsal_pca, pca_dorsal_vectors, palmar_scaler, palmar_pca, pca_palmar_vectors\n",
    "        ))\n",
    "\n",
    "    score = accuracy_score(pred_labels, test_labels)\n",
    "    return score"
   ]
  },
  {
   "cell_type": "code",
   "execution_count": 204,
   "metadata": {
    "scrolled": false
   },
   "outputs": [
    {
     "name": "stdout",
     "output_type": "stream",
     "text": [
      "returning just the scaler and frt model\n",
      "returning just the scaler and frt model\n",
      "returning just the scaler and frt model\n",
      "returning just the scaler and frt model\n",
      "returning just the scaler and frt model\n",
      "returning just the scaler and frt model\n",
      "returning just the scaler and frt model\n",
      "returning just the scaler and frt model\n",
      "returning just the scaler and frt model\n",
      "returning just the scaler and frt model\n",
      "returning just the scaler and frt model\n",
      "returning just the scaler and frt model\n",
      "returning just the scaler and frt model\n",
      "returning just the scaler and frt model\n",
      "returning just the scaler and frt model\n",
      "returning just the scaler and frt model\n",
      "returning just the scaler and frt model\n",
      "returning just the scaler and frt model\n",
      "returning just the scaler and frt model\n",
      "returning just the scaler and frt model\n"
     ]
    }
   ],
   "source": [
    "scores = []\n",
    "tests = 10\n",
    "for _ in range(tests):\n",
    "    scores.append(test())"
   ]
  },
  {
   "cell_type": "code",
   "execution_count": 205,
   "metadata": {},
   "outputs": [
    {
     "name": "stdout",
     "output_type": "stream",
     "text": [
      "0.7313559322033898\n"
     ]
    }
   ],
   "source": [
    "print(np.mean(scores))"
   ]
  },
  {
   "cell_type": "code",
   "execution_count": null,
   "metadata": {},
   "outputs": [],
   "source": []
  },
  {
   "cell_type": "code",
   "execution_count": null,
   "metadata": {},
   "outputs": [],
   "source": []
  },
  {
   "cell_type": "code",
   "execution_count": null,
   "metadata": {},
   "outputs": [],
   "source": []
  }
 ],
 "metadata": {
  "kernelspec": {
   "display_name": "Python 3",
   "language": "python",
   "name": "python3"
  },
  "language_info": {
   "codemirror_mode": {
    "name": "ipython",
    "version": 3
   },
   "file_extension": ".py",
   "mimetype": "text/x-python",
   "name": "python",
   "nbconvert_exporter": "python",
   "pygments_lexer": "ipython3",
   "version": "3.7.4"
  }
 },
 "nbformat": 4,
 "nbformat_minor": 2
}
